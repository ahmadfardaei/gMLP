{
  "cells": [
    {
      "cell_type": "markdown",
      "id": "8f272bf3",
      "metadata": {
        "id": "8f272bf3"
      },
      "source": [
        "### Refernces\n",
        "\n",
        "\n",
        "\n",
        "*   [Basic architecture of SGU](https://github.com/labmlai/annotated_deep_learning_paper_implementations/tree/master/labml_nn/transformers/gmlp)\n",
        "*   [Original Paper](https://arxiv.org/abs/2105.08050)\n",
        "*   [MLP](https://medium.com/deep-learning-study-notes/multi-layer-perceptron-mlp-in-pytorch-21ea46d50e62)\n",
        "\n"
      ]
    },
    {
      "cell_type": "markdown",
      "id": "69183b17",
      "metadata": {
        "id": "69183b17"
      },
      "source": [
        "# Importing Libraries"
      ]
    },
    {
      "cell_type": "code",
      "execution_count": null,
      "id": "9c8428f6",
      "metadata": {
        "id": "9c8428f6"
      },
      "outputs": [],
      "source": [
        "import time\n",
        "\n",
        "import pandas as pd\n",
        "import platform\n",
        "import io\n",
        "\n",
        "import matplotlib.pyplot as plt\n",
        "from matplotlib.pyplot import cm\n",
        "\n",
        "import torch\n",
        "import torch.nn as nn\n",
        "import torch.optim as optim\n",
        "\n",
        "import torch.nn as nn\n",
        "import torch.nn.functional as F\n",
        "from torch import nn\n",
        "from torch.nn import functional as F\n",
        "from torch.utils.data import DataLoader, Dataset, random_split\n",
        "import torchvision.transforms as transforms\n",
        "import torchvision\n",
        "\n",
        "from PIL import Image\n",
        "\n",
        "import matplotlib.pyplot as plt\n",
        "import numpy as np\n",
        "\n",
        "from sklearn.preprocessing import LabelEncoder\n"
      ]
    },
    {
      "cell_type": "markdown",
      "id": "2b07033d",
      "metadata": {
        "id": "2b07033d"
      },
      "source": [
        "# Reading Data"
      ]
    },
    {
      "cell_type": "code",
      "execution_count": null,
      "id": "110df766",
      "metadata": {
        "id": "110df766",
        "outputId": "4bc66098-21f0-45eb-e713-a14fd5a85b7e"
      },
      "outputs": [
        {
          "data": {
            "text/html": [
              "<div>\n",
              "<style scoped>\n",
              "    .dataframe tbody tr th:only-of-type {\n",
              "        vertical-align: middle;\n",
              "    }\n",
              "\n",
              "    .dataframe tbody tr th {\n",
              "        vertical-align: top;\n",
              "    }\n",
              "\n",
              "    .dataframe thead th {\n",
              "        text-align: right;\n",
              "    }\n",
              "</style>\n",
              "<table border=\"1\" class=\"dataframe\">\n",
              "  <thead>\n",
              "    <tr style=\"text-align: right;\">\n",
              "      <th></th>\n",
              "      <th>id</th>\n",
              "      <th>label</th>\n",
              "    </tr>\n",
              "  </thead>\n",
              "  <tbody>\n",
              "    <tr>\n",
              "      <th>0</th>\n",
              "      <td>1</td>\n",
              "      <td>frog</td>\n",
              "    </tr>\n",
              "    <tr>\n",
              "      <th>1</th>\n",
              "      <td>2</td>\n",
              "      <td>truck</td>\n",
              "    </tr>\n",
              "    <tr>\n",
              "      <th>2</th>\n",
              "      <td>3</td>\n",
              "      <td>truck</td>\n",
              "    </tr>\n",
              "    <tr>\n",
              "      <th>3</th>\n",
              "      <td>4</td>\n",
              "      <td>deer</td>\n",
              "    </tr>\n",
              "    <tr>\n",
              "      <th>4</th>\n",
              "      <td>5</td>\n",
              "      <td>automobile</td>\n",
              "    </tr>\n",
              "    <tr>\n",
              "      <th>...</th>\n",
              "      <td>...</td>\n",
              "      <td>...</td>\n",
              "    </tr>\n",
              "    <tr>\n",
              "      <th>995</th>\n",
              "      <td>996</td>\n",
              "      <td>cat</td>\n",
              "    </tr>\n",
              "    <tr>\n",
              "      <th>996</th>\n",
              "      <td>997</td>\n",
              "      <td>dog</td>\n",
              "    </tr>\n",
              "    <tr>\n",
              "      <th>997</th>\n",
              "      <td>998</td>\n",
              "      <td>automobile</td>\n",
              "    </tr>\n",
              "    <tr>\n",
              "      <th>998</th>\n",
              "      <td>999</td>\n",
              "      <td>cat</td>\n",
              "    </tr>\n",
              "    <tr>\n",
              "      <th>999</th>\n",
              "      <td>1000</td>\n",
              "      <td>dog</td>\n",
              "    </tr>\n",
              "  </tbody>\n",
              "</table>\n",
              "<p>1000 rows × 2 columns</p>\n",
              "</div>"
            ],
            "text/plain": [
              "       id       label\n",
              "0       1        frog\n",
              "1       2       truck\n",
              "2       3       truck\n",
              "3       4        deer\n",
              "4       5  automobile\n",
              "..    ...         ...\n",
              "995   996         cat\n",
              "996   997         dog\n",
              "997   998  automobile\n",
              "998   999         cat\n",
              "999  1000         dog\n",
              "\n",
              "[1000 rows x 2 columns]"
            ]
          },
          "execution_count": 2,
          "metadata": {},
          "output_type": "execute_result"
        }
      ],
      "source": [
        "# trainlabels.csv should be in same directory as notebook\n",
        "# To run the model on the whole dataset, remove [:1000]\n",
        "\n",
        "df = pd.read_csv(\"trainLabels.csv\")[:1000]\n",
        "df"
      ]
    },
    {
      "cell_type": "code",
      "execution_count": null,
      "id": "b154ab0b",
      "metadata": {
        "id": "b154ab0b",
        "outputId": "fbbc759e-b3a3-4172-ac90-acb0b64fa9f6"
      },
      "outputs": [
        {
          "data": {
            "text/plain": [
              "Index(['id', 'label'], dtype='object')"
            ]
          },
          "execution_count": 3,
          "metadata": {},
          "output_type": "execute_result"
        }
      ],
      "source": [
        "df.columns"
      ]
    },
    {
      "cell_type": "code",
      "execution_count": null,
      "id": "b16dd69f",
      "metadata": {
        "id": "b16dd69f",
        "outputId": "3f8ae93e-d6e8-43e5-9066-20e5385b3c93"
      },
      "outputs": [
        {
          "data": {
            "text/plain": [
              "array(['frog', 'truck', 'deer', 'automobile', 'bird', 'horse', 'ship',\n",
              "       'cat', 'dog', 'airplane'], dtype=object)"
            ]
          },
          "execution_count": 4,
          "metadata": {},
          "output_type": "execute_result"
        }
      ],
      "source": [
        "df[\"label\"].unique()"
      ]
    },
    {
      "cell_type": "code",
      "execution_count": null,
      "id": "151d40cf",
      "metadata": {
        "id": "151d40cf",
        "outputId": "92038d85-8547-4434-82d5-41a8f2fd1e27"
      },
      "outputs": [
        {
          "data": {
            "text/plain": [
              "10"
            ]
          },
          "execution_count": 5,
          "metadata": {},
          "output_type": "execute_result"
        }
      ],
      "source": [
        "# there are 10 classes/labels in dataset\n",
        "len(df[\"label\"].unique())"
      ]
    },
    {
      "cell_type": "code",
      "execution_count": null,
      "id": "272d2e12",
      "metadata": {
        "id": "272d2e12"
      },
      "outputs": [],
      "source": [
        "# Creating a LabelEncoder object\n",
        "le = LabelEncoder()\n",
        "\n",
        "# Fit and transform the categorical data\n",
        "# converting categorical labels to numerical\n",
        "df['label'] = le.fit_transform(df['label'])"
      ]
    },
    {
      "cell_type": "code",
      "execution_count": null,
      "id": "491ed4a7",
      "metadata": {
        "id": "491ed4a7",
        "outputId": "dd9ca690-6db3-421a-a915-4d011e94dea3"
      },
      "outputs": [
        {
          "data": {
            "text/plain": [
              "array([6, 9, 4, 1, 2, 7, 8, 3, 5, 0])"
            ]
          },
          "execution_count": 7,
          "metadata": {},
          "output_type": "execute_result"
        }
      ],
      "source": [
        "df[\"label\"].unique()"
      ]
    },
    {
      "cell_type": "code",
      "execution_count": null,
      "id": "e9947e45",
      "metadata": {
        "id": "e9947e45",
        "outputId": "401254aa-c6bc-40fb-d483-0e80d9055301"
      },
      "outputs": [
        {
          "data": {
            "text/html": [
              "<div>\n",
              "<style scoped>\n",
              "    .dataframe tbody tr th:only-of-type {\n",
              "        vertical-align: middle;\n",
              "    }\n",
              "\n",
              "    .dataframe tbody tr th {\n",
              "        vertical-align: top;\n",
              "    }\n",
              "\n",
              "    .dataframe thead th {\n",
              "        text-align: right;\n",
              "    }\n",
              "</style>\n",
              "<table border=\"1\" class=\"dataframe\">\n",
              "  <thead>\n",
              "    <tr style=\"text-align: right;\">\n",
              "      <th></th>\n",
              "      <th>id</th>\n",
              "      <th>label</th>\n",
              "    </tr>\n",
              "  </thead>\n",
              "  <tbody>\n",
              "    <tr>\n",
              "      <th>0</th>\n",
              "      <td>1</td>\n",
              "      <td>6</td>\n",
              "    </tr>\n",
              "    <tr>\n",
              "      <th>1</th>\n",
              "      <td>2</td>\n",
              "      <td>9</td>\n",
              "    </tr>\n",
              "    <tr>\n",
              "      <th>2</th>\n",
              "      <td>3</td>\n",
              "      <td>9</td>\n",
              "    </tr>\n",
              "    <tr>\n",
              "      <th>3</th>\n",
              "      <td>4</td>\n",
              "      <td>4</td>\n",
              "    </tr>\n",
              "    <tr>\n",
              "      <th>4</th>\n",
              "      <td>5</td>\n",
              "      <td>1</td>\n",
              "    </tr>\n",
              "    <tr>\n",
              "      <th>...</th>\n",
              "      <td>...</td>\n",
              "      <td>...</td>\n",
              "    </tr>\n",
              "    <tr>\n",
              "      <th>995</th>\n",
              "      <td>996</td>\n",
              "      <td>3</td>\n",
              "    </tr>\n",
              "    <tr>\n",
              "      <th>996</th>\n",
              "      <td>997</td>\n",
              "      <td>5</td>\n",
              "    </tr>\n",
              "    <tr>\n",
              "      <th>997</th>\n",
              "      <td>998</td>\n",
              "      <td>1</td>\n",
              "    </tr>\n",
              "    <tr>\n",
              "      <th>998</th>\n",
              "      <td>999</td>\n",
              "      <td>3</td>\n",
              "    </tr>\n",
              "    <tr>\n",
              "      <th>999</th>\n",
              "      <td>1000</td>\n",
              "      <td>5</td>\n",
              "    </tr>\n",
              "  </tbody>\n",
              "</table>\n",
              "<p>1000 rows × 2 columns</p>\n",
              "</div>"
            ],
            "text/plain": [
              "       id  label\n",
              "0       1      6\n",
              "1       2      9\n",
              "2       3      9\n",
              "3       4      4\n",
              "4       5      1\n",
              "..    ...    ...\n",
              "995   996      3\n",
              "996   997      5\n",
              "997   998      1\n",
              "998   999      3\n",
              "999  1000      5\n",
              "\n",
              "[1000 rows x 2 columns]"
            ]
          },
          "execution_count": 8,
          "metadata": {},
          "output_type": "execute_result"
        }
      ],
      "source": [
        "df"
      ]
    },
    {
      "cell_type": "markdown",
      "id": "49464a0a",
      "metadata": {
        "id": "49464a0a"
      },
      "source": [
        "# Dataset and Dataloader"
      ]
    },
    {
      "cell_type": "code",
      "execution_count": null,
      "id": "66d60d68",
      "metadata": {
        "id": "66d60d68"
      },
      "outputs": [],
      "source": [
        "# Change the path to the same directory and in the form of: (your path)/gMLP/train/\n",
        "# The train folder should be in same directory as notebook\n",
        "\n",
        "class custom_Dataset(Dataset):\n",
        "\n",
        "    def __init__(self, df, freq_threshold = 5):\n",
        "        self.df = df\n",
        "\n",
        "    def __len__(self):\n",
        "        return len(self.df)\n",
        "\n",
        "    def __getitem__(self, index):\n",
        "        transform = transforms.Compose([transforms.Resize((256, 256)),transforms.ToTensor(),transforms.Normalize(torch.Tensor([0.5, 0.5, 0.5]), torch.Tensor([0.5, 0.5, 0.5]))])\n",
        "        image = Image.open(\"C:/Users/HP/Desktop/gMLP/train/\"+ str(self.df.iloc[index, 0])+\".png\").convert(\"RGB\")\n",
        "        image = transform(image)\n",
        "\n",
        "        sentiment = torch.tensor(int(self.df.iloc[index, 1]))\n",
        "\n",
        "        temp = [image, sentiment]\n",
        "\n",
        "        return temp"
      ]
    },
    {
      "cell_type": "code",
      "execution_count": null,
      "id": "58443224",
      "metadata": {
        "id": "58443224",
        "outputId": "1ecaff0a-cde8-48af-deec-e16ac9fdec7a"
      },
      "outputs": [
        {
          "data": {
            "text/plain": [
              "<__main__.custom_Dataset at 0x11a52bfc640>"
            ]
          },
          "execution_count": 10,
          "metadata": {},
          "output_type": "execute_result"
        }
      ],
      "source": [
        "dataset = custom_Dataset(df)\n",
        "dataset"
      ]
    },
    {
      "cell_type": "code",
      "execution_count": null,
      "id": "fcbea9fb",
      "metadata": {
        "id": "fcbea9fb",
        "outputId": "79c3ed0f-298d-46a5-fd41-ddfcfb5d3b9f"
      },
      "outputs": [
        {
          "name": "stdout",
          "output_type": "stream",
          "text": [
            "length of dataset :  1000\n",
            "80% of dataset:  800.0\n",
            "20% of dataset:  200.0\n"
          ]
        }
      ],
      "source": [
        "len_dataset = len(dataset)\n",
        "print(\"length of dataset : \",len_dataset)\n",
        "print(\"80% of dataset: \",0.8*len_dataset)\n",
        "print(\"20% of dataset: \",len_dataset-(0.8*len_dataset))"
      ]
    },
    {
      "cell_type": "code",
      "execution_count": null,
      "id": "b2edf61c",
      "metadata": {
        "id": "b2edf61c"
      },
      "outputs": [],
      "source": [
        "# In the length =[x,y] the x should be 80% and y should be 20% of the entire dataset (train and test)\n",
        "\n",
        "generator = torch.Generator()\n",
        "generator.manual_seed(0)\n",
        "train_set, test_set = random_split(dataset=dataset, lengths=[800,200],generator=generator)\n",
        "\n",
        "training_loader = DataLoader(dataset = train_set, batch_size = 64, shuffle=True)\n",
        "testing_loader = DataLoader(dataset = test_set, batch_size = 64, shuffle=True)"
      ]
    },
    {
      "cell_type": "code",
      "execution_count": null,
      "id": "a7f991f6",
      "metadata": {
        "id": "a7f991f6",
        "outputId": "30d6221c-b63d-4406-ca2a-888d936f5774"
      },
      "outputs": [
        {
          "name": "stdout",
          "output_type": "stream",
          "text": [
            "torch.Size([64, 3, 256, 256])\n",
            "torch.Size([64])\n"
          ]
        }
      ],
      "source": [
        "dd = list(training_loader)\n",
        "images, labels = dd[0]\n",
        "print(images.shape)\n",
        "print(labels.shape)"
      ]
    },
    {
      "cell_type": "markdown",
      "id": "34fc000a",
      "metadata": {
        "id": "34fc000a"
      },
      "source": [
        "# Architecture of gMLP"
      ]
    },
    {
      "cell_type": "code",
      "execution_count": null,
      "id": "80f65e03",
      "metadata": {
        "id": "80f65e03"
      },
      "outputs": [],
      "source": [
        "# d_ffn is the dimensionality of Z\n",
        "# seq_len is the length of the img sequence (n)\n",
        "\n",
        "# The paper notes that it's important to initialize bias to 1.\n",
        "\n",
        "# chunk splits x into u and v\n",
        "\n",
        "# v needs to be normalized and projected according to formula in paper\n",
        "\n",
        "\n",
        "class SpatialGatingUnit(nn.Module):\n",
        "    def __init__(self, d_ffn, seq_len):\n",
        "        super().__init__()\n",
        "        self.norm = nn.LayerNorm(d_ffn)\n",
        "        self.spatial_proj = nn.Conv1d(seq_len, seq_len, kernel_size=1)\n",
        "        nn.init.constant_(self.spatial_proj.bias, 1.0)\n",
        "\n",
        "    def forward(self, x):\n",
        "        u, v = x.chunk(2, dim=-1)\n",
        "        v = self.norm(v)\n",
        "        v = self.spatial_proj(v)\n",
        "        out = u * v\n",
        "        return out"
      ]
    },
    {
      "cell_type": "markdown",
      "id": "4261a80b",
      "metadata": {
        "id": "4261a80b"
      },
      "source": [
        "For gMLPBlock()\n",
        "Each block does the following transformations to input embeddings X∈R\n",
        "n×d where n is the sequence length and d is the dimensionality of the embeddings:\n",
        "\n",
        "Z=σ(XU)\n",
        "Z'=s(Z)\n",
        "Y= Z'V\n",
        "where V and U are learnable projection weights. s(⋅) is the Spacial Gating Unit defined below. Output dimensionality of s(⋅) will be half of Z. σ is an activation function such as GeLU."
      ]
    },
    {
      "cell_type": "code",
      "execution_count": null,
      "id": "5cd38ad2",
      "metadata": {
        "id": "5cd38ad2"
      },
      "outputs": [],
      "source": [
        "#     d_model is the dimensionality (d) of X\n",
        "#     d_ffn is the dimensionality of Z\n",
        "#     seq_len is the length of the img sequence (n)\n",
        "\n",
        "class gMLPBlock(nn.Module):\n",
        "    def __init__(self, d_model, d_ffn, seq_len):\n",
        "        super().__init__()\n",
        "        self.norm = nn.LayerNorm(d_model)\n",
        "        self.channel_proj1 = nn.Linear(d_model, d_ffn * 2)\n",
        "        self.channel_proj2 = nn.Linear(d_ffn, d_model)\n",
        "        self.sgu = SpatialGatingUnit(d_ffn, seq_len)\n",
        "\n",
        "    def forward(self, x):\n",
        "        residual = x\n",
        "        x = self.norm(x)\n",
        "        x = F.gelu(self.channel_proj1(x))\n",
        "        x = self.sgu(x)\n",
        "        x = self.channel_proj2(x)\n",
        "        out = x + residual\n",
        "        return out"
      ]
    },
    {
      "cell_type": "code",
      "execution_count": null,
      "id": "459f8a56",
      "metadata": {
        "id": "459f8a56"
      },
      "outputs": [],
      "source": [
        "class gMLP(nn.Module):\n",
        "    def __init__(self, d_model=256, d_ffn=512, seq_len=256, num_layers=6):\n",
        "        super().__init__()\n",
        "        self.model = nn.Sequential(\n",
        "            *[gMLPBlock(d_model, d_ffn, seq_len) for _ in range(num_layers)]\n",
        "        )\n",
        "\n",
        "    def forward(self, x):\n",
        "        return self.model(x)\n"
      ]
    },
    {
      "cell_type": "code",
      "execution_count": null,
      "id": "963d3f98",
      "metadata": {
        "id": "963d3f98"
      },
      "outputs": [],
      "source": [
        "# This function checks whether image_size is divisible by patch_size(remainder of 0 is necessary)\n",
        "\n",
        "def check_sizes(image_size, patch_size):\n",
        "    sqrt_num_patches, remainder = divmod(image_size, patch_size)\n",
        "    assert remainder == 0,\n",
        "    num_patches = sqrt_num_patches ** 2\n",
        "    return num_patches"
      ]
    },
    {
      "cell_type": "code",
      "execution_count": null,
      "id": "e302d6d6",
      "metadata": {
        "id": "e302d6d6"
      },
      "outputs": [],
      "source": [
        "# in_channels is 3 because of RGB\n",
        "# num_classes is 10 as there are 10 labels\n",
        "# the shape is like (batch size,Colour channel,img size,img size)\n",
        "\n",
        "\n",
        "class gMLPForImageClassification(gMLP):\n",
        "    def __init__(self, image_size=256, patch_size=16, in_channels=3,num_classes=10,d_model=256,d_ffn=512,seq_len=256,num_layers=6):\n",
        "        num_patches = check_sizes(image_size, patch_size)\n",
        "        super().__init__(d_model, d_ffn, seq_len, num_layers)\n",
        "        self.patcher = nn.Conv2d(in_channels, d_model, kernel_size=patch_size, stride=patch_size)\n",
        "        self.classifier = nn.Linear(d_model, num_classes)\n",
        "\n",
        "    def forward(self, x):\n",
        "        patches = self.patcher(x)\n",
        "        batch_size, num_channels, _, _ = patches.shape\n",
        "        patches = patches.permute(0, 2, 3, 1)\n",
        "        patches = patches.view(batch_size, -1, num_channels)\n",
        "        embedding = self.model(patches)\n",
        "        embedding = embedding.mean(dim=1)\n",
        "        out = self.classifier(embedding)\n",
        "        return out"
      ]
    },
    {
      "cell_type": "code",
      "execution_count": null,
      "id": "77021050",
      "metadata": {
        "id": "77021050"
      },
      "outputs": [],
      "source": [
        "model = gMLPForImageClassification()\n"
      ]
    },
    {
      "cell_type": "markdown",
      "id": "4b2dce95",
      "metadata": {
        "id": "4b2dce95"
      },
      "source": [
        "# Training and Validation"
      ]
    },
    {
      "cell_type": "markdown",
      "id": "b335a11e",
      "metadata": {
        "id": "b335a11e"
      },
      "source": [
        "Learning rate scheduling:\n",
        "Learning rate scheduler -> change the learning rate after every batch of training.\n",
        "\"One Cycle Learning Rate Policy\" -> starting with a low learning rate, gradually increasing it batch-by-batch to a high learning rate for about 30% epochs, then gradually decreasing it to a very low value for the remaining epochs.\n",
        "\n",
        "\n",
        "Weight decay: Regularization technique to prevent the weights from becoming too large by adding an additional term to the loss function\n",
        "\n",
        "\n",
        "Gradient clipping: it's helpful to limit the values of gradients to a small range to prevent undesirable changes in parameters due to large gradient values."
      ]
    },
    {
      "cell_type": "code",
      "execution_count": null,
      "id": "3d69a663",
      "metadata": {
        "id": "3d69a663"
      },
      "outputs": [],
      "source": [
        "def prediction(data_loader, model, criterion):\n",
        "    correct = 0\n",
        "    total = 0\n",
        "    losses = 0\n",
        "\n",
        "    for i, (images, labels) in enumerate(data_loader):\n",
        "\n",
        "        outputs = model(images)\n",
        "\n",
        "        loss = criterion(outputs, labels)\n",
        "\n",
        "        _, predictions = torch.max(outputs, dim=1)\n",
        "\n",
        "        correct += torch.sum(labels == predictions).item()\n",
        "        total += labels.shape[0]\n",
        "\n",
        "        losses += loss.data.item()\n",
        "\n",
        "    return losses/len(list(data_loader)), 1 - correct/total # we need to normalize loss with respect to the number of batches"
      ]
    },
    {
      "cell_type": "code",
      "execution_count": null,
      "id": "b3d9c25d",
      "metadata": {
        "id": "b3d9c25d"
      },
      "outputs": [],
      "source": [
        "def get_lr(optimizer):\n",
        "    for param_group in optimizer.param_groups:\n",
        "        return param_group['lr']"
      ]
    },
    {
      "cell_type": "code",
      "execution_count": null,
      "id": "846b0f9e",
      "metadata": {
        "id": "846b0f9e"
      },
      "outputs": [],
      "source": [
        "# define a fit_one_cycle function to incorporate learning rate scheduling, weight decay and gradient clipping\n",
        "def fit_one_cycle(epochs, max_lr, model, train_loader, val_loader, criterion,\n",
        "                  weight_decay=0, grad_clip=None, opt_func=torch.optim.SGD):\n",
        "    history = []\n",
        "\n",
        "  # Set up custom optimizer with weight decay\n",
        "    optimizer = opt_func(model.parameters(), max_lr, weight_decay=weight_decay)\n",
        "  # Set up one-cycle learning rate scheduler\n",
        "    sched = torch.optim.lr_scheduler.OneCycleLR(optimizer, max_lr, epochs=epochs,\n",
        "                                              steps_per_epoch=len(train_loader))\n",
        "\n",
        "\n",
        "    train_losses = []\n",
        "    test_losses = []\n",
        "\n",
        "    train_error_rates = []\n",
        "    test_error_rates = []\n",
        "\n",
        "  # Loop through all epochs\n",
        "    for epoch in range(epochs):\n",
        "        train_loss = 0\n",
        "        n_iter = 0\n",
        "        total = 0\n",
        "        correct = 0\n",
        "        lrs = []\n",
        "\n",
        "        # Training phase\n",
        "        for i, (images, labels) in enumerate(train_loader):\n",
        "            optimizer.zero_grad() # zero gradients out before computing others\n",
        "\n",
        "            outputs = model(images)\n",
        "\n",
        "          # compute the train_error rates\n",
        "            _, predictions = torch.max(outputs, 1)\n",
        "            correct += torch.sum(labels == predictions).item()\n",
        "            total += labels.shape[0]\n",
        "\n",
        "          # compute loss\n",
        "            loss = criterion(outputs, labels)\n",
        "          # compute gradients\n",
        "            loss.backward()\n",
        "\n",
        "          # Gradient clipping:\n",
        "            if grad_clip is not None:\n",
        "                nn.utils.clip_grad_value_(model.parameters(), grad_clip)\n",
        "\n",
        "          # update weights/parameters\n",
        "            optimizer.step()\n",
        "\n",
        "          # record and update learning rate\n",
        "            lrs.append(get_lr(optimizer))\n",
        "            sched.step()\n",
        "\n",
        "            train_loss += loss.detach().item()\n",
        "\n",
        "            n_iter += 1\n",
        "\n",
        "        train_error_rate = 1 - correct/total\n",
        "\n",
        "        # Validation phase\n",
        "        with torch.no_grad():\n",
        "            test_loss, test_error_rate = prediction(val_loader, model, criterion)\n",
        "\n",
        "        train_error_rates.append(train_error_rate)\n",
        "        test_error_rates.append(test_error_rate)\n",
        "        train_losses.append(train_loss/n_iter)\n",
        "        test_losses.append(test_loss)\n",
        "        results ={'train_loss': train_loss/n_iter,'val_loss': test_loss, 'val_acc': (1-train_error_rate)*100}\n",
        "        results['lrs'] = lrs\n",
        "        history.append(results)\n",
        "\n",
        "        print('Epoch: {}/{}, last_lr: {:.5f}, train_loss: {:.4f}, val_loss: {:.4f}, val_accuracy: {:.1f}%'.format(epoch+1, epochs, results['lrs'][-1], train_loss/n_iter, test_loss, (1-train_error_rate)*100))\n",
        "\n",
        "    return history"
      ]
    },
    {
      "cell_type": "code",
      "execution_count": null,
      "id": "730e0f84",
      "metadata": {
        "id": "730e0f84"
      },
      "outputs": [],
      "source": [
        "# Hyperparameters\n",
        "epochs = 5\n",
        "max_lr = 0.01\n",
        "grad_clip = 0.1\n",
        "weight_decay = 1e-4\n",
        "opt_func = torch.optim.Adam\n",
        "criterion = nn.CrossEntropyLoss()"
      ]
    },
    {
      "cell_type": "code",
      "execution_count": null,
      "id": "e51a211e",
      "metadata": {
        "id": "e51a211e",
        "outputId": "3ef52455-364a-4789-99ae-3046ec22e769"
      },
      "outputs": [
        {
          "name": "stdout",
          "output_type": "stream",
          "text": [
            "Epoch: 1/5, last_lr: 0.00736, train_loss: 2.8115, val_loss: 3.1678, val_accuracy: 21.5%\n",
            "Epoch: 2/5, last_lr: 0.00950, train_loss: 4.0386, val_loss: 6.5856, val_accuracy: 14.6%\n",
            "Epoch: 3/5, last_lr: 0.00611, train_loss: 6.9836, val_loss: 4.8457, val_accuracy: 13.0%\n",
            "Epoch: 4/5, last_lr: 0.00188, train_loss: 3.5347, val_loss: 2.9927, val_accuracy: 21.3%\n",
            "Epoch: 5/5, last_lr: 0.00000, train_loss: 2.2894, val_loss: 2.2387, val_accuracy: 29.1%\n"
          ]
        }
      ],
      "source": [
        "history_mlp = fit_one_cycle(epochs, max_lr, model, training_loader, testing_loader, criterion, weight_decay, opt_func=opt_func)"
      ]
    },
    {
      "cell_type": "markdown",
      "id": "7e7a97c5",
      "metadata": {
        "id": "7e7a97c5"
      },
      "source": [
        "# Model Evaluation"
      ]
    },
    {
      "cell_type": "code",
      "execution_count": null,
      "id": "f7078806",
      "metadata": {
        "id": "f7078806"
      },
      "outputs": [],
      "source": [
        "def plot_accuracies(history):\n",
        "    accuracies = [x['val_acc'] for x in history]\n",
        "\n",
        "    plt.plot(accuracies, '-x')\n",
        "    plt.xlabel('epoch')\n",
        "    plt.ylabel('accuracy')\n",
        "    plt.title('Accuracy vs. No. of epochs');\n",
        "def plot_losses(history):\n",
        "    train_losses = [x.get('train_loss') for x in history]\n",
        "    test_losses = [x['val_loss'] for x in history]\n",
        "    plt.plot(train_losses, label='train', marker='o', alpha=0.7)\n",
        "    plt.plot(test_losses, label='test', marker='o', alpha=0.7)\n",
        "    plt.xlabel(\"Epoch\")\n",
        "    plt.ylabel(\"Loss\")\n",
        "    plt.grid(True)\n",
        "    plt.legend()\n",
        "    plt.title('Model Loss')"
      ]
    },
    {
      "cell_type": "code",
      "execution_count": null,
      "id": "f8c4ea7e",
      "metadata": {
        "id": "f8c4ea7e",
        "outputId": "c350ec7b-8d79-400d-a13f-d0d091f8eb19"
      },
      "outputs": [
        {
          "data": {
            "text/plain": [
              "Text(0.5, 1.0, 'Accuracy')"
            ]
          },
          "execution_count": 39,
          "metadata": {},
          "output_type": "execute_result"
        },
        {
          "data": {
            "image/png": "[encoded data removed]",
            "text/plain": [
              "<Figure size 720x576 with 2 Axes>"
            ]
          },
          "metadata": {
            "needs_background": "light"
          },
          "output_type": "display_data"
        }
      ],
      "source": [
        "plt.figure(figsize=(10, 8))\n",
        "plt.subplot(1,3,1)\n",
        "plot_losses(history_mlp)\n",
        "plt.title('Loss')\n",
        "plt.subplot(1,3,2)\n",
        "plot_accuracies(history_mlp)\n",
        "plt.title('Accuracy')"
      ]
    },
    {
      "cell_type": "code",
      "execution_count": null,
      "id": "9be22473",
      "metadata": {
        "id": "9be22473"
      },
      "outputs": [],
      "source": []
    },
    {
      "cell_type": "markdown",
      "id": "67efcc75",
      "metadata": {
        "id": "67efcc75"
      },
      "source": [
        "# Testing/output"
      ]
    },
    {
      "cell_type": "code",
      "execution_count": null,
      "id": "661f32e0",
      "metadata": {
        "id": "661f32e0",
        "outputId": "a3e79dbc-4a93-4e74-87d2-da13cb7e0b08"
      },
      "outputs": [
        {
          "name": "stdout",
          "output_type": "stream",
          "text": [
            "GroundTruth:  ship\n",
            "GroundTruth:  deer\n",
            "GroundTruth:  horse\n",
            "GroundTruth:  bird\n",
            "GroundTruth:  truck\n"
          ]
        },
        {
          "data": {
            "image/png": "[encoded data removed]",
            "text/plain": [
              "<Figure size 432x288 with 1 Axes>"
            ]
          },
          "metadata": {
            "needs_background": "light"
          },
          "output_type": "display_data"
        }
      ],
      "source": [
        "dd = list(training_loader)\n",
        "images, labels = dd[0]\n",
        "def imshow(img):\n",
        "    img = img / 2 + 0.5     # unnormalize\n",
        "    npimg = img.numpy()\n",
        "    plt.imshow(np.transpose(npimg, (1, 2, 0)))\n",
        "imshow(torchvision.utils.make_grid(images[:5]))\n",
        "labels = le.inverse_transform(labels)\n",
        "for j in range(5):\n",
        "    print('GroundTruth: ',labels[j])"
      ]
    },
    {
      "cell_type": "code",
      "execution_count": null,
      "id": "1bc1b3a6",
      "metadata": {
        "id": "1bc1b3a6",
        "outputId": "c3be5b75-8786-4475-bb88-bc28f7ee8380"
      },
      "outputs": [
        {
          "name": "stdout",
          "output_type": "stream",
          "text": [
            "Predicted:  truck\n",
            "Predicted:  horse\n",
            "Predicted:  horse\n",
            "Predicted:  deer\n",
            "Predicted:  automobile\n"
          ]
        }
      ],
      "source": [
        "outputs = model(images)\n",
        "_, predicted = torch.max(outputs, 1)\n",
        "predicted = le.inverse_transform(predicted)\n",
        "for j in range(5):\n",
        "    print('Predicted: ',predicted[j])"
      ]
    },
    {
      "cell_type": "markdown",
      "id": "bd9c2858",
      "metadata": {
        "id": "bd9c2858"
      },
      "source": [
        "This is a classification model and model outputs values from 0 to 9 as there are 10 classes. these values needs to be mapped to original labales such as cat,truck,etc."
      ]
    }
  ],
  "metadata": {
    "kernelspec": {
      "display_name": "Python 3 (ipykernel)",
      "language": "python",
      "name": "python3"
    },
    "language_info": {
      "codemirror_mode": {
        "name": "ipython",
        "version": 3
      },
      "file_extension": ".py",
      "mimetype": "text/x-python",
      "name": "python",
      "nbconvert_exporter": "python",
      "pygments_lexer": "ipython3",
      "version": "3.9.12"
    },
    "colab": {
      "provenance": []
    }
  },
  "nbformat": 4,
  "nbformat_minor": 5
}